import numpy as np
import random

num = random.random()

sample = np.ones((2,6))

arr = np.arange(14)

even = arr[arr%2 == 0]
odd = arr[arr%2 == 1]
top_stack = (np.vstack([even, odd]))
line_stack = (np.hstack([even, odd]))
print(top_stack.shape)
print(line_stack.shape)
print(np.intersect1d(even, odd))